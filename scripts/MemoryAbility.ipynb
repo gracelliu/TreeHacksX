{
 "cells": [
  {
   "cell_type": "code",
   "execution_count": 2,
   "metadata": {},
   "outputs": [
    {
     "name": "stdout",
     "output_type": "stream",
     "text": [
      "Requirement already satisfied: pandas in /usr/local/lib/python3.11/site-packages (2.2.0)\n",
      "Requirement already satisfied: numpy<2,>=1.23.2 in /usr/local/lib/python3.11/site-packages (from pandas) (1.24.3)\n",
      "Requirement already satisfied: python-dateutil>=2.8.2 in /usr/local/lib/python3.11/site-packages (from pandas) (2.8.2)\n",
      "Requirement already satisfied: pytz>=2020.1 in /usr/local/lib/python3.11/site-packages (from pandas) (2024.1)\n",
      "Requirement already satisfied: tzdata>=2022.7 in /usr/local/lib/python3.11/site-packages (from pandas) (2024.1)\n",
      "Requirement already satisfied: six>=1.5 in /usr/local/lib/python3.11/site-packages (from python-dateutil>=2.8.2->pandas) (1.16.0)\n",
      "\n",
      "\u001b[1m[\u001b[0m\u001b[34;49mnotice\u001b[0m\u001b[1;39;49m]\u001b[0m\u001b[39;49m A new release of pip is available: \u001b[0m\u001b[31;49m23.0.1\u001b[0m\u001b[39;49m -> \u001b[0m\u001b[32;49m24.0\u001b[0m\n",
      "\u001b[1m[\u001b[0m\u001b[34;49mnotice\u001b[0m\u001b[1;39;49m]\u001b[0m\u001b[39;49m To update, run: \u001b[0m\u001b[32;49m/usr/local/opt/python@3.11/bin/python3.11 -m pip install --upgrade pip\u001b[0m\n"
     ]
    }
   ],
   "source": [
    "!pip3 install pandas"
   ]
  },
  {
   "cell_type": "code",
   "execution_count": 5,
   "metadata": {},
   "outputs": [
    {
     "name": "stdout",
     "output_type": "stream",
     "text": [
      "No broken requirements found.\n"
     ]
    }
   ],
   "source": [
    "!pip3 check pandas"
   ]
  },
  {
   "cell_type": "code",
   "execution_count": 71,
   "metadata": {},
   "outputs": [],
   "source": [
    "from collections import defaultdict\n",
    "import datetime\n",
    "import random\n",
    "\n",
    "n = 20\n",
    "\n",
    "# correct = \n",
    "\n",
    "\n",
    "data = {\n",
    "  \"id\":[i for i in range(1,21)],\n",
    "  \"label\":[0,0,0,0,0,0,0,0,0,0,0,0,0,0,0,1,1,0,0,0],\n",
    "  \"timestamp\":[],\n",
    "  \"sum\":[]\n",
    "}\n",
    "\n",
    "currdate = datetime.datetime(year=2023, month=6, day=13, hour=12, minute=43)\n",
    "\n",
    "\n",
    "winsize = 5\n",
    "cursize = 0\n",
    "\n",
    "for i in range(n):\n",
    "  # data[\"id\"].append(i+1)\n",
    "  # data[\"label\"].append(correct[i])\n",
    "  data[\"timestamp\"].append(currdate)\n",
    "  currdate += datetime.timedelta(minutes=(random.random()*5760)) \n",
    "  # if i >= n:\n",
    "  #   data[\"sum_label\"] -= (data[\"sum_label\"][i-n])\n",
    "  # else:\n",
    "  #   cursize += 1\n",
    "  \n",
    "  \n",
    "\n"
   ]
  },
  {
   "cell_type": "code",
   "execution_count": 72,
   "metadata": {},
   "outputs": [
    {
     "name": "stdout",
     "output_type": "stream",
     "text": [
      "{'id': [1, 2, 3, 4, 5, 6, 7, 8, 9, 10, 11, 12, 13, 14, 15, 16, 17, 18, 19, 20], 'label': [0, 0, 0, 0, 0, 0, 0, 0, 0, 0, 0, 0, 0, 0, 0, 1, 1, 0, 0, 0], 'timestamp': [datetime.datetime(2023, 6, 13, 12, 43), datetime.datetime(2023, 6, 15, 1, 43, 0, 454719), datetime.datetime(2023, 6, 18, 3, 24, 13, 644730), datetime.datetime(2023, 6, 19, 9, 25, 21, 545736), datetime.datetime(2023, 6, 22, 18, 44, 54, 939565), datetime.datetime(2023, 6, 24, 4, 24, 13, 925476), datetime.datetime(2023, 6, 25, 19, 25, 40, 965197), datetime.datetime(2023, 6, 29, 17, 37, 47, 648146), datetime.datetime(2023, 7, 3, 0, 32, 13, 699964), datetime.datetime(2023, 7, 4, 3, 8, 38, 291367), datetime.datetime(2023, 7, 4, 9, 39, 4, 418167), datetime.datetime(2023, 7, 6, 4, 20, 42, 272640), datetime.datetime(2023, 7, 6, 19, 37, 47, 873392), datetime.datetime(2023, 7, 8, 19, 46, 39, 137859), datetime.datetime(2023, 7, 12, 13, 12, 15, 602138), datetime.datetime(2023, 7, 13, 3, 37, 2, 673195), datetime.datetime(2023, 7, 16, 2, 56, 52, 680886), datetime.datetime(2023, 7, 18, 4, 53, 14, 933525), datetime.datetime(2023, 7, 19, 23, 41, 8, 534948), datetime.datetime(2023, 7, 21, 21, 41, 15, 917320)], 'sum': []}\n"
     ]
    }
   ],
   "source": [
    "print(data)"
   ]
  },
  {
   "cell_type": "code",
   "execution_count": 73,
   "metadata": {},
   "outputs": [
    {
     "name": "stdout",
     "output_type": "stream",
     "text": [
      "[16, 17, 18, 19, 20] [1, 1, 0, 0, 0] [0.5110026155153276, 0.6418659125616293, 0.7529419011364286, 0.863297493530129, 1.0]\n",
      "[[-0.28332715]]\n"
     ]
    }
   ],
   "source": [
    "import matplotlib.pyplot as plt\n",
    "import numpy as np\n",
    "from sklearn import datasets\n",
    "from sklearn.linear_model import LinearRegression\n",
    "\n",
    "x = data[\"id\"][-5:]\n",
    "y = data[\"label\"][-5:]\n",
    "weights = [(i.timestamp()/data[\"timestamp\"][-1].timestamp())**1500 for i in data[\"timestamp\"][-5:]]\n",
    "print(x,y,weights)\n",
    "regr = LinearRegression()\n",
    "regr.fit(np.array(x).reshape(-1,1),np.array(y).reshape(-1,1),sample_weight=np.array(weights))\n",
    "print(regr.coef_)"
   ]
  },
  {
   "cell_type": "code",
   "execution_count": null,
   "metadata": {},
   "outputs": [],
   "source": []
  }
 ],
 "metadata": {
  "kernelspec": {
   "display_name": "Python 3",
   "language": "python",
   "name": "python3"
  },
  "language_info": {
   "codemirror_mode": {
    "name": "ipython",
    "version": 3
   },
   "file_extension": ".py",
   "mimetype": "text/x-python",
   "name": "python",
   "nbconvert_exporter": "python",
   "pygments_lexer": "ipython3",
   "version": "3.7.4"
  }
 },
 "nbformat": 4,
 "nbformat_minor": 2
}
